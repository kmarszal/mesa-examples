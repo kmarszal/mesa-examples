{
 "cells": [
  {
   "cell_type": "markdown",
   "metadata": {},
   "source": [
    "# Boltzman wealth model"
   ]
  },
  {
   "cell_type": "code",
   "execution_count": 1,
   "metadata": {
    "collapsed": true
   },
   "outputs": [],
   "source": [
    "from mesa import Agent, Model\n",
    "from mesa.time import RandomActivation"
   ]
  },
  {
   "cell_type": "markdown",
   "metadata": {
    "collapsed": true
   },
   "source": [
    "## Ćwiczenie 1.1\n",
    "Spróbuj zmodyfikować kod tak, aby w każdym kroku symulacji agenci wypisywali swoje id.\n",
    "\n",
    "Do zaimplementowania metoda step w agencie."
   ]
  },
  {
   "cell_type": "code",
   "execution_count": 5,
   "metadata": {
    "collapsed": false
   },
   "outputs": [],
   "source": [
    "class MoneyAgent(Agent):\n",
    "    \"\"\"An agent with fixed initial wealth.\"\"\"\n",
    "    def __init__(self, unique_id, model):\n",
    "        super().__init__(unique_id, model)\n",
    "        self.wealth = 1\n",
    "        \n",
    "    def step(self):\n",
    "        # The agent's step will go here.\n",
    "        print(self.unique_id)\n",
    "\n",
    "class MoneyModel(Model):\n",
    "    \"\"\"A model with some number of agents.\"\"\"\n",
    "    def __init__(self, N):\n",
    "        self.num_agents = N\n",
    "        self.schedule = RandomActivation(self)\n",
    "        # Create agents\n",
    "        for i in range(self.num_agents):\n",
    "            a = MoneyAgent(i, self)\n",
    "            self.schedule.add(a)\n",
    "\n",
    "    def step(self):\n",
    "        '''Advance the model by one step.'''\n",
    "        self.schedule.step()"
   ]
  },
  {
   "cell_type": "code",
   "execution_count": 7,
   "metadata": {
    "collapsed": false
   },
   "outputs": [
    {
     "name": "stdout",
     "output_type": "stream",
     "text": [
      "0\n",
      "1\n",
      "3\n",
      "9\n",
      "8\n",
      "4\n",
      "5\n",
      "2\n",
      "7\n",
      "6\n"
     ]
    }
   ],
   "source": [
    "empty_model = MoneyModel(10)\n",
    "empty_model.step()"
   ]
  },
  {
   "cell_type": "markdown",
   "metadata": {},
   "source": [
    "## Ćwiczenie 1.2\n",
    "Zaimplementuj metodę step w agencie tak, aby w każdym kroku przekazywał jednostkę pieniędzy (jeżeli posiada chociaż 1) innemu losowemu agentowi.\n",
    "\n",
    "Przydatne rzeczy: <br/>\n",
    "self.random.choice(agent_list) - funkcja zwraca losowego agenta z listy <br/>\n",
    "self.model.schedule.agents - lista wszystkich agentów w modelu"
   ]
  },
  {
   "cell_type": "code",
   "execution_count": 10,
   "metadata": {
    "collapsed": false
   },
   "outputs": [],
   "source": [
    "class MoneyAgent(Agent):\n",
    "    \"\"\"An agent with fixed initial wealth.\"\"\"\n",
    "    def __init__(self, unique_id, model):\n",
    "        super().__init__(unique_id, model)\n",
    "        self.wealth = 1\n",
    "        \n",
    "    def step(self):\n",
    "        if self.wealth == 0:\n",
    "            return\n",
    "        other_agent = self.random.choice(self.model.schedule.agents)\n",
    "        other_agent.wealth += 1\n",
    "        self.wealth -= 1\n",
    "\n",
    "class MoneyModel(Model):\n",
    "    \"\"\"A model with some number of agents.\"\"\"\n",
    "    def __init__(self, N):\n",
    "        self.num_agents = N\n",
    "        self.schedule = RandomActivation(self)\n",
    "        # Create agents\n",
    "        for i in range(self.num_agents):\n",
    "            a = MoneyAgent(i, self)\n",
    "            self.schedule.add(a)\n",
    "\n",
    "    def step(self):\n",
    "        '''Advance the model by one step.'''\n",
    "        self.schedule.step()"
   ]
  },
  {
   "cell_type": "code",
   "execution_count": 12,
   "metadata": {
    "collapsed": true
   },
   "outputs": [],
   "source": [
    "%matplotlib inline\n",
    "\n",
    "import matplotlib.pyplot as plt"
   ]
  },
  {
   "cell_type": "code",
   "execution_count": 15,
   "metadata": {
    "collapsed": false
   },
   "outputs": [
    {
     "data": {
      "text/plain": [
       "(array([ 3.,  0.,  0.,  0.,  0.,  4.,  0.,  0.,  0.,  3.]),\n",
       " array([ 0. ,  0.2,  0.4,  0.6,  0.8,  1. ,  1.2,  1.4,  1.6,  1.8,  2. ]),\n",
       " <a list of 10 Patch objects>)"
      ]
     },
     "execution_count": 15,
     "metadata": {},
     "output_type": "execute_result"
    },
    {
     "data": {
      "image/png": "[encoded data removed]",
      "text/plain": [
       "<matplotlib.figure.Figure at 0x202f1707898>"
      ]
     },
     "metadata": {},
     "output_type": "display_data"
    }
   ],
   "source": [
    "model = MoneyModel(10)\n",
    "model.step()\n",
    "\n",
    "agent_wealth = [a.wealth for a in model.schedule.agents]\n",
    "plt.hist(agent_wealth)"
   ]
  },
  {
   "cell_type": "code",
   "execution_count": 28,
   "metadata": {
    "collapsed": false
   },
   "outputs": [
    {
     "data": {
      "text/plain": [
       "(array([ 395.,  372.,  181.,    0.,   22.,    0.,    0.,    5.,    0.,   25.]),\n",
       " array([ 0. ,  0.7,  1.4,  2.1,  2.8,  3.5,  4.2,  4.9,  5.6,  6.3,  7. ]),\n",
       " <a list of 10 Patch objects>)"
      ]
     },
     "execution_count": 28,
     "metadata": {},
     "output_type": "execute_result"
    },
    {
     "data": {
      "image/png": "[encoded data removed]",
      "text/plain": [
       "<matplotlib.figure.Figure at 0x202f1edff98>"
      ]
     },
     "metadata": {},
     "output_type": "display_data"
    }
   ],
   "source": [
    "all_wealth = []\n",
    "for j in range(100):\n",
    "    # Run the model\n",
    "    model = MoneyModel(10)\n",
    "    for i in range(10):\n",
    "        model.step()\n",
    "\n",
    "    # Store the results\n",
    "    for agent in model.schedule.agents:\n",
    "        all_wealth.append(agent.wealth)\n",
    "\n",
    "plt.hist(all_wealth)"
   ]
  },
  {
   "cell_type": "markdown",
   "metadata": {},
   "source": [
    "## Ćwiczenie 1.3\n",
    "Teraz dodamy przestrzeń do symulacji.\n",
    "\n",
    "Agenci znajdują się na siatce, mogą przemieścić się na dowolne pole z sąsiedztwa Moore'a i przekazać pieniądze tylko agentom znajdującym się na tym samym polu.\n",
    "\n",
    "Sprawdź jak wygląda rozmieszczenie agentów na siatce."
   ]
  },
  {
   "cell_type": "code",
   "execution_count": 31,
   "metadata": {
    "collapsed": true
   },
   "outputs": [],
   "source": [
    "from mesa.space import MultiGrid"
   ]
  },
  {
   "cell_type": "code",
   "execution_count": 32,
   "metadata": {
    "collapsed": true
   },
   "outputs": [],
   "source": [
    "class MoneyModel(Model):\n",
    "    def __init__(self, N, width, height):\n",
    "        self.num_agents = N\n",
    "        self.grid = MultiGrid(width, height, True)\n",
    "        self.schedule = RandomActivation(self)\n",
    "        # Create agents\n",
    "        for i in range(self.num_agents):\n",
    "            a = MoneyAgent(i, self)\n",
    "            self.schedule.add(a)\n",
    "            # Add the agent to a random grid cell\n",
    "            x = self.random.randrange(self.grid.width)\n",
    "            y = self.random.randrange(self.grid.height)\n",
    "            self.grid.place_agent(a, (x, y))\n",
    "\n",
    "    def step(self):\n",
    "        self.schedule.step()\n",
    "\n",
    "class MoneyAgent(Agent):\n",
    "    \"\"\" An agent with fixed initial wealth.\"\"\"\n",
    "    def __init__(self, unique_id, model):\n",
    "        super().__init__(unique_id, model)\n",
    "        self.wealth = 1\n",
    "\n",
    "    def move(self):\n",
    "        possible_steps = self.model.grid.get_neighborhood(\n",
    "            self.pos,\n",
    "            moore=True,\n",
    "            include_center=False)\n",
    "        new_position = self.random.choice(possible_steps)\n",
    "        self.model.grid.move_agent(self, new_position)\n",
    "\n",
    "    def give_money(self):\n",
    "        cellmates = self.model.grid.get_cell_list_contents([self.pos])\n",
    "        if len(cellmates) > 1:\n",
    "            other = self.random.choice(cellmates)\n",
    "            other.wealth += 1\n",
    "            self.wealth -= 1\n",
    "\n",
    "    def step(self):\n",
    "        self.move()\n",
    "        if self.wealth > 0:\n",
    "            self.give_money()"
   ]
  },
  {
   "cell_type": "code",
   "execution_count": 33,
   "metadata": {
    "collapsed": false
   },
   "outputs": [],
   "source": [
    "model = MoneyModel(50, 10, 10)\n",
    "for i in range(20):\n",
    "    model.step()"
   ]
  },
  {
   "cell_type": "code",
   "execution_count": 34,
   "metadata": {
    "collapsed": false
   },
   "outputs": [
    {
     "data": {
      "text/plain": [
       "<matplotlib.colorbar.Colorbar at 0x202f30804a8>"
      ]
     },
     "execution_count": 34,
     "metadata": {},
     "output_type": "execute_result"
    },
    {
     "data": {
      "image/png": "[encoded data removed]",
      "text/plain": [
       "<matplotlib.figure.Figure at 0x202f1d8f2e8>"
      ]
     },
     "metadata": {},
     "output_type": "display_data"
    }
   ],
   "source": [
    "import numpy as np\n",
    "\n",
    "agent_counts = np.zeros((model.grid.width, model.grid.height))\n",
    "for cell in model.grid.coord_iter():\n",
    "    cell_content, x, y = cell\n",
    "    agent_count = len(cell_content)\n",
    "    agent_counts[x][y] = agent_count\n",
    "plt.imshow(agent_counts, interpolation='nearest')\n",
    "plt.colorbar()"
   ]
  },
  {
   "cell_type": "markdown",
   "metadata": {},
   "source": [
    "## Ćwiczenie 1.4\n",
    "Teraz dodajemy zbieranie danych w czasie symulacji."
   ]
  },
  {
   "cell_type": "code",
   "execution_count": 35,
   "metadata": {
    "collapsed": true
   },
   "outputs": [],
   "source": [
    "from mesa.datacollection import DataCollector"
   ]
  },
  {
   "cell_type": "code",
   "execution_count": 36,
   "metadata": {
    "collapsed": true
   },
   "outputs": [],
   "source": [
    "def compute_gini(model):\n",
    "    agent_wealths = [agent.wealth for agent in model.schedule.agents]\n",
    "    x = sorted(agent_wealths)\n",
    "    N = model.num_agents\n",
    "    B = sum( xi * (N-i) for i,xi in enumerate(x) ) / (N*sum(x))\n",
    "    return (1 + (1/N) - 2*B)\n",
    "\n",
    "class MoneyAgent(Agent):\n",
    "    \"\"\" An agent with fixed initial wealth.\"\"\"\n",
    "    def __init__(self, unique_id, model):\n",
    "        super().__init__(unique_id, model)\n",
    "        self.wealth = 1\n",
    "\n",
    "    def move(self):\n",
    "        possible_steps = self.model.grid.get_neighborhood(\n",
    "            self.pos,\n",
    "            moore=True,\n",
    "            include_center=False)\n",
    "        new_position = self.random.choice(possible_steps)\n",
    "        self.model.grid.move_agent(self, new_position)\n",
    "\n",
    "    def give_money(self):\n",
    "        cellmates = self.model.grid.get_cell_list_contents([self.pos])\n",
    "        if len(cellmates) > 1:\n",
    "            other = self.random.choice(cellmates)\n",
    "            other.wealth += 1\n",
    "            self.wealth -= 1\n",
    "\n",
    "    def step(self):\n",
    "        self.move()\n",
    "        if self.wealth > 0:\n",
    "            self.give_money()\n",
    "\n",
    "class MoneyModel(Model):\n",
    "    \"\"\"A model with some number of agents.\"\"\"\n",
    "    def __init__(self, N, width, height):\n",
    "        self.num_agents = N\n",
    "        self.grid = MultiGrid(width, height, True)\n",
    "        self.schedule = RandomActivation(self)\n",
    "\n",
    "        # Create agents\n",
    "        for i in range(self.num_agents):\n",
    "            a = MoneyAgent(i, self)\n",
    "            self.schedule.add(a)\n",
    "            # Add the agent to a random grid cell\n",
    "            x = self.random.randrange(self.grid.width)\n",
    "            y = self.random.randrange(self.grid.height)\n",
    "            self.grid.place_agent(a, (x, y))\n",
    "\n",
    "        self.datacollector = DataCollector(\n",
    "            model_reporters={\"Gini\": compute_gini},  # `compute_gini` defined above\n",
    "            agent_reporters={\"Wealth\": \"wealth\"})\n",
    "\n",
    "    def step(self):\n",
    "        self.datacollector.collect(self)\n",
    "        self.schedule.step()"
   ]
  },
  {
   "cell_type": "code",
   "execution_count": 37,
   "metadata": {
    "collapsed": true
   },
   "outputs": [],
   "source": [
    "model = MoneyModel(50, 10, 10)\n",
    "for i in range(100):\n",
    "    model.step()"
   ]
  },
  {
   "cell_type": "code",
   "execution_count": 38,
   "metadata": {
    "collapsed": false
   },
   "outputs": [
    {
     "data": {
      "text/plain": [
       "<matplotlib.axes._subplots.AxesSubplot at 0x202f3f47ef0>"
      ]
     },
     "execution_count": 38,
     "metadata": {},
     "output_type": "execute_result"
    },
    {
     "data": {
      "image/png": "[encoded data removed]",
      "text/plain": [
       "<matplotlib.figure.Figure at 0x202f3f47780>"
      ]
     },
     "metadata": {},
     "output_type": "display_data"
    }
   ],
   "source": [
    "gini = model.datacollector.get_model_vars_dataframe()\n",
    "gini.plot()"
   ]
  },
  {
   "cell_type": "code",
   "execution_count": 41,
   "metadata": {
    "collapsed": false
   },
   "outputs": [
    {
     "data": {
      "text/plain": [
       "<matplotlib.axes._subplots.AxesSubplot at 0x202f40e9748>"
      ]
     },
     "execution_count": 41,
     "metadata": {},
     "output_type": "execute_result"
    },
    {
     "data": {
      "image/png": "[encoded data removed]",
      "text/plain": [
       "<matplotlib.figure.Figure at 0x202f4148eb8>"
      ]
     },
     "metadata": {},
     "output_type": "display_data"
    }
   ],
   "source": [
    "agent_wealth = model.datacollector.get_agent_vars_dataframe()\n",
    "one_agent_wealth = agent_wealth.xs(0, level=\"AgentID\")\n",
    "one_agent_wealth.Wealth.plot()"
   ]
  },
  {
   "cell_type": "markdown",
   "metadata": {},
   "source": [
    "Spróbuj narysować wykres największego bogactwa od kroku symulacji.\n",
    "\n",
    "Przydatne rzeczy: <br/>\n",
    "<b>wealth_per_agent = agent_wealth.xs(step, level=\"Step\")</b>  zwróci nam dataframe zawierający wartości bogactwa dla każdego agenta w kroku step.<br/>\n",
    "<b>wealth_per_agent.xs(agent_id).Wealth</b>  zwróci nam wartość bogactwa agenta o konkretnym id"
   ]
  },
  {
   "cell_type": "code",
   "execution_count": 58,
   "metadata": {
    "collapsed": false
   },
   "outputs": [
    {
     "data": {
      "text/plain": [
       "[<matplotlib.lines.Line2D at 0x202f4676160>]"
      ]
     },
     "execution_count": 58,
     "metadata": {},
     "output_type": "execute_result"
    },
    {
     "data": {
      "image/png": "[encoded data removed]",
      "text/plain": [
       "<matplotlib.figure.Figure at 0x202f41f9ba8>"
      ]
     },
     "metadata": {},
     "output_type": "display_data"
    }
   ],
   "source": [
    "max_wealths = list()\n",
    "for step in range(100):\n",
    "    wealth_per_agent = agent_wealth.xs(step, level=\"Step\")\n",
    "    max_wealths.append(max([wealth_per_agent.xs(agent_id).Wealth for agent_id in range(50)]))\n",
    "plt.plot(range(100), max_wealths)"
   ]
  },
  {
   "cell_type": "markdown",
   "metadata": {},
   "source": [
    "## Ćwiczenie 1.5\n",
    "Wklej klasy MoneyModel, MoneyAgent i funkcję compute_gini do pliku MoneyModel_viz.py, dodaj do MoneyModel atrybut running=True.\n",
    "Uruchom wizualizację.<br/>\n",
    "Spróbuj zmienić sposób w jaki wyświetlani są agenci bez pieniędzy.<br/>\n",
    "W tym celu zmodyfikuj funkcję agent_portrayal. <br/>\n",
    "\n",
    "Przydatne rzeczy: <br/>\n",
    "Funkcja agent_portrayal zwraca słownik z atrybutami Shape, Filled, Layer, Color, r<br/>\n",
    "Możesz zmodyfikować słownik na podstawie atrybutu agent.wealth"
   ]
  },
  {
   "cell_type": "markdown",
   "metadata": {},
   "source": [
    "# Zadanie domowe\n",
    "Tworzymy sieć jak na obrazku:\n",
    "![title](network.png)\n",
    "Załóżmy, że sieć reprezentuje routery i chcemy przesłać pakiet od pierwszego od lewej do ostatniego.<br/>\n",
    "Routery oprócz pierwszego i ostatniego mogą losowo się psuć przez co są nieaktywne zanim zostaną naprawione.<br/>\n",
    "Router wysyła wiadomość dalej do pierwszego od góry i czeka na potwierdzenie. Jeżeli nie dostanie potwierdzenia wysyła do następnego pod nim. <br/>\n",
    "Przy jakim współczynniku psucia się routerów (prawdopodobieństwo, że router się zepsuje w danym kroku) sieć będzie dostępna przez 90% czasu jeżeli naprawa routera wymaga 20 kroków czasowych?"
   ]
  },
  {
   "cell_type": "code",
   "execution_count": null,
   "metadata": {
    "collapsed": true
   },
   "outputs": [],
   "source": []
  }
 ],
 "metadata": {
  "kernelspec": {
   "display_name": "Python 3",
   "language": "python",
   "name": "python3"
  },
  "language_info": {
   "codemirror_mode": {
    "name": "ipython",
    "version": 3
   },
   "file_extension": ".py",
   "mimetype": "text/x-python",
   "name": "python",
   "nbconvert_exporter": "python",
   "pygments_lexer": "ipython3",
   "version": "3.6.0"
  }
 },
 "nbformat": 4,
 "nbformat_minor": 2
}
