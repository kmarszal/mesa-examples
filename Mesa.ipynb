{
 "cells": [
  {
   "cell_type": "markdown",
   "metadata": {},
   "source": [
    "# Boltzmann wealth model"
   ]
  },
  {
   "cell_type": "code",
   "execution_count": 1,
   "metadata": {
    "collapsed": true
   },
   "outputs": [],
   "source": [
    "from mesa import Agent, Model\n",
    "from mesa.time import RandomActivation"
   ]
  },
  {
   "cell_type": "markdown",
   "metadata": {
    "collapsed": true
   },
   "source": [
    "## Ćwiczenie 1.1\n",
    "Spróbuj zmodyfikować kod tak, aby w każdym kroku symulacji agenci wypisywali swoje id.\n",
    "\n",
    "Do zaimplementowania metoda step w agencie."
   ]
  },
  {
   "cell_type": "code",
   "execution_count": 78,
   "metadata": {},
   "outputs": [],
   "source": [
    "class MoneyAgent(Agent):\n",
    "    \"\"\"An agent with fixed initial wealth.\"\"\"\n",
    "    def __init__(self, unique_id, model):\n",
    "        super().__init__(unique_id, model)\n",
    "        self.wealth = 1\n",
    "        \n",
    "    def step(self):\n",
    "        # The agent's step will go here.\n",
    "        pass\n",
    "\n",
    "class MoneyModel(Model):\n",
    "    \"\"\"A model with some number of agents.\"\"\"\n",
    "    def __init__(self, N):\n",
    "        self.num_agents = N\n",
    "        self.schedule = RandomActivation(self)\n",
    "        # Create agents\n",
    "        for i in range(self.num_agents):\n",
    "            a = MoneyAgent(i, self)\n",
    "            self.schedule.add(a)\n",
    "\n",
    "    def step(self):\n",
    "        '''Advance the model by one step.'''\n",
    "        self.schedule.step()"
   ]
  },
  {
   "cell_type": "code",
   "execution_count": 65,
   "metadata": {},
   "outputs": [],
   "source": [
    "empty_model = MoneyModel(10)\n",
    "empty_model.step()"
   ]
  },
  {
   "cell_type": "markdown",
   "metadata": {},
   "source": [
    "## Ćwiczenie 1.2\n",
    "Zaimplementuj metodę step w agencie tak, aby w każdym kroku przekazywał jednostkę pieniędzy (jeżeli posiada chociaż 1) innemu losowemu agentowi.\n",
    "\n",
    "Przydatne rzeczy: <br/>\n",
    "self.random.choice(agent_list) - funkcja zwraca losowego agenta z listy <br/>\n",
    "self.model.schedule.agents - lista wszystkich agentów w modelu"
   ]
  },
  {
   "cell_type": "code",
   "execution_count": 96,
   "metadata": {},
   "outputs": [],
   "source": [
    "class MoneyAgent(Agent):\n",
    "    \"\"\"An agent with fixed initial wealth.\"\"\"\n",
    "    def __init__(self, unique_id, model):\n",
    "        super().__init__(unique_id, model)\n",
    "        self.wealth = 1\n",
    "        \n",
    "    def step(self):\n",
    "        pass\n",
    "\n",
    "class MoneyModel(Model):\n",
    "    \"\"\"A model with some number of agents.\"\"\"\n",
    "    def __init__(self, N):\n",
    "        self.num_agents = N\n",
    "        self.schedule = RandomActivation(self)\n",
    "        # Create agents\n",
    "        for i in range(self.num_agents):\n",
    "            a = MoneyAgent(i, self)\n",
    "            self.schedule.add(a)\n",
    "\n",
    "    def step(self):\n",
    "        '''Advance the model by one step.'''\n",
    "        self.schedule.step()"
   ]
  },
  {
   "cell_type": "code",
   "execution_count": 89,
   "metadata": {
    "collapsed": true
   },
   "outputs": [],
   "source": [
    "%matplotlib inline\n",
    "\n",
    "import matplotlib.pyplot as plt"
   ]
  },
  {
   "cell_type": "code",
   "execution_count": null,
   "metadata": {},
   "outputs": [],
   "source": [
    "model = MoneyModel(10)\n",
    "model.step()\n",
    "\n",
    "agent_wealth = [a.wealth for a in model.schedule.agents]\n",
    "plt.hist(agent_wealth)"
   ]
  },
  {
   "cell_type": "code",
   "execution_count": null,
   "metadata": {},
   "outputs": [],
   "source": [
    "all_wealth = []\n",
    "for j in range(100):\n",
    "    # Run the model\n",
    "    model = MoneyModel(10)\n",
    "    for i in range(10):\n",
    "        model.step()\n",
    "\n",
    "    # Store the results\n",
    "    for agent in model.schedule.agents:\n",
    "        all_wealth.append(agent.wealth)\n",
    "\n",
    "plt.hist(all_wealth)"
   ]
  },
  {
   "cell_type": "markdown",
   "metadata": {},
   "source": [
    "## Ćwiczenie 1.3\n",
    "Teraz dodamy przestrzeń do symulacji.\n",
    "\n",
    "Agenci znajdują się na siatce, mogą przemieścić się na dowolne pole z sąsiedztwa Moore'a i przekazać pieniądze tylko agentom znajdującym się na tym samym polu.\n",
    "\n",
    "Sprawdź jak wygląda rozmieszczenie agentów na siatce."
   ]
  },
  {
   "cell_type": "code",
   "execution_count": 31,
   "metadata": {
    "collapsed": true
   },
   "outputs": [],
   "source": [
    "from mesa.space import MultiGrid"
   ]
  },
  {
   "cell_type": "code",
   "execution_count": 32,
   "metadata": {
    "collapsed": true
   },
   "outputs": [],
   "source": [
    "class MoneyModel(Model):\n",
    "    def __init__(self, N, width, height):\n",
    "        self.num_agents = N\n",
    "        self.grid = MultiGrid(width, height, True)\n",
    "        self.schedule = RandomActivation(self)\n",
    "        # Create agents\n",
    "        for i in range(self.num_agents):\n",
    "            a = MoneyAgent(i, self)\n",
    "            self.schedule.add(a)\n",
    "            # Add the agent to a random grid cell\n",
    "            x = self.random.randrange(self.grid.width)\n",
    "            y = self.random.randrange(self.grid.height)\n",
    "            self.grid.place_agent(a, (x, y))\n",
    "\n",
    "    def step(self):\n",
    "        self.schedule.step()\n",
    "\n",
    "class MoneyAgent(Agent):\n",
    "    \"\"\" An agent with fixed initial wealth.\"\"\"\n",
    "    def __init__(self, unique_id, model):\n",
    "        super().__init__(unique_id, model)\n",
    "        self.wealth = 1\n",
    "\n",
    "    def move(self):\n",
    "        possible_steps = self.model.grid.get_neighborhood(\n",
    "            self.pos,\n",
    "            moore=True,\n",
    "            include_center=False)\n",
    "        new_position = self.random.choice(possible_steps)\n",
    "        self.model.grid.move_agent(self, new_position)\n",
    "\n",
    "    def give_money(self):\n",
    "        cellmates = self.model.grid.get_cell_list_contents([self.pos])\n",
    "        if len(cellmates) > 1:\n",
    "            other = self.random.choice(cellmates)\n",
    "            other.wealth += 1\n",
    "            self.wealth -= 1\n",
    "\n",
    "    def step(self):\n",
    "        self.move()\n",
    "        if self.wealth > 0:\n",
    "            self.give_money()"
   ]
  },
  {
   "cell_type": "code",
   "execution_count": 33,
   "metadata": {},
   "outputs": [],
   "source": [
    "model = MoneyModel(50, 10, 10)\n",
    "for i in range(20):\n",
    "    model.step()"
   ]
  },
  {
   "cell_type": "code",
   "execution_count": null,
   "metadata": {},
   "outputs": [],
   "source": [
    "import numpy as np\n",
    "\n",
    "agent_counts = np.zeros((model.grid.width, model.grid.height))\n",
    "for cell in model.grid.coord_iter():\n",
    "    cell_content, x, y = cell\n",
    "    agent_count = len(cell_content)\n",
    "    agent_counts[x][y] = agent_count\n",
    "plt.imshow(agent_counts, interpolation='nearest')\n",
    "plt.colorbar()"
   ]
  },
  {
   "cell_type": "markdown",
   "metadata": {},
   "source": [
    "## Ćwiczenie 1.4\n",
    "Teraz dodajemy zbieranie danych w czasie symulacji."
   ]
  },
  {
   "cell_type": "code",
   "execution_count": 35,
   "metadata": {
    "collapsed": true
   },
   "outputs": [],
   "source": [
    "from mesa.datacollection import DataCollector"
   ]
  },
  {
   "cell_type": "code",
   "execution_count": 36,
   "metadata": {
    "collapsed": true
   },
   "outputs": [],
   "source": [
    "def compute_gini(model):\n",
    "    agent_wealths = [agent.wealth for agent in model.schedule.agents]\n",
    "    x = sorted(agent_wealths)\n",
    "    N = model.num_agents\n",
    "    B = sum( xi * (N-i) for i,xi in enumerate(x) ) / (N*sum(x))\n",
    "    return (1 + (1/N) - 2*B)\n",
    "\n",
    "class MoneyAgent(Agent):\n",
    "    \"\"\" An agent with fixed initial wealth.\"\"\"\n",
    "    def __init__(self, unique_id, model):\n",
    "        super().__init__(unique_id, model)\n",
    "        self.wealth = 1\n",
    "\n",
    "    def move(self):\n",
    "        possible_steps = self.model.grid.get_neighborhood(\n",
    "            self.pos,\n",
    "            moore=True,\n",
    "            include_center=False)\n",
    "        new_position = self.random.choice(possible_steps)\n",
    "        self.model.grid.move_agent(self, new_position)\n",
    "\n",
    "    def give_money(self):\n",
    "        cellmates = self.model.grid.get_cell_list_contents([self.pos])\n",
    "        if len(cellmates) > 1:\n",
    "            other = self.random.choice(cellmates)\n",
    "            other.wealth += 1\n",
    "            self.wealth -= 1\n",
    "\n",
    "    def step(self):\n",
    "        self.move()\n",
    "        if self.wealth > 0:\n",
    "            self.give_money()\n",
    "\n",
    "class MoneyModel(Model):\n",
    "    \"\"\"A model with some number of agents.\"\"\"\n",
    "    def __init__(self, N, width, height):\n",
    "        self.num_agents = N\n",
    "        self.grid = MultiGrid(width, height, True)\n",
    "        self.schedule = RandomActivation(self)\n",
    "\n",
    "        # Create agents\n",
    "        for i in range(self.num_agents):\n",
    "            a = MoneyAgent(i, self)\n",
    "            self.schedule.add(a)\n",
    "            # Add the agent to a random grid cell\n",
    "            x = self.random.randrange(self.grid.width)\n",
    "            y = self.random.randrange(self.grid.height)\n",
    "            self.grid.place_agent(a, (x, y))\n",
    "\n",
    "        self.datacollector = DataCollector(\n",
    "            model_reporters={\"Gini\": compute_gini},  # `compute_gini` defined above\n",
    "            agent_reporters={\"Wealth\": \"wealth\"})\n",
    "\n",
    "    def step(self):\n",
    "        self.datacollector.collect(self)\n",
    "        self.schedule.step()"
   ]
  },
  {
   "cell_type": "code",
   "execution_count": 37,
   "metadata": {
    "collapsed": true
   },
   "outputs": [],
   "source": [
    "model = MoneyModel(50, 10, 10)\n",
    "for i in range(100):\n",
    "    model.step()"
   ]
  },
  {
   "cell_type": "code",
   "execution_count": null,
   "metadata": {},
   "outputs": [],
   "source": [
    "gini = model.datacollector.get_model_vars_dataframe()\n",
    "gini.plot()"
   ]
  },
  {
   "cell_type": "code",
   "execution_count": null,
   "metadata": {},
   "outputs": [],
   "source": [
    "agent_wealth = model.datacollector.get_agent_vars_dataframe()\n",
    "one_agent_wealth = agent_wealth.xs(0, level=\"AgentID\")\n",
    "one_agent_wealth.Wealth.plot()"
   ]
  },
  {
   "cell_type": "markdown",
   "metadata": {},
   "source": [
    "Spróbuj narysować wykres największego bogactwa od kroku symulacji.\n",
    "\n",
    "Przydatne rzeczy: <br/>\n",
    "<b>wealth_per_agent = agent_wealth.xs(step, level=\"Step\")</b>  zwróci nam dataframe zawierający wartości bogactwa dla każdego agenta w kroku step.<br/>\n",
    "<b>wealth_per_agent.xs(agent_id).Wealth</b>  zwróci nam wartość bogactwa agenta o konkretnym id"
   ]
  },
  {
   "cell_type": "code",
   "execution_count": null,
   "metadata": {},
   "outputs": [],
   "source": [
    "plt.plot(agent_ids, max_wealths)"
   ]
  },
  {
   "cell_type": "markdown",
   "metadata": {},
   "source": [
    "## Ćwiczenie 1.5\n",
    "Wklej klasy MoneyModel, MoneyAgent i funkcję compute_gini do pliku MoneyModel_viz.py, dodaj do MoneyModel atrybut running=True.\n",
    "Uruchom wizualizację.<br/>\n",
    "Spróbuj zmienić sposób w jaki wyświetlani są agenci bez pieniędzy.<br/>\n",
    "W tym celu zmodyfikuj funkcję agent_portrayal. <br/>\n",
    "\n",
    "Przydatne rzeczy: <br/>\n",
    "Funkcja agent_portrayal zwraca słownik z atrybutami Shape, Filled, Layer, Color, r<br/>\n",
    "Możesz zmodyfikować słownik na podstawie atrybutu agent.wealth"
   ]
  },
  {
   "cell_type": "markdown",
   "metadata": {},
   "source": [
    "# Forest fire"
   ]
  },
  {
   "cell_type": "markdown",
   "metadata": {},
   "source": [
    "## Ćwiczenie 2.1\n",
    "\n",
    "Otwórz przykład forest_fire. <br/>\n",
    "Przykład demonstruje model pożaru lasu znany z automatów komórkowych. Domyślnie wszystkie drzewa skrajnie po lewej są inicjalizowane jako palące się. Zmodyfikuj przykład tak, aby drzewa podpalały się podczas inicjalizacji losowo z prawdopodobieństwem ustawianym przy pomocy suwaka podobnie jak Tree density.\n",
    "\n",
    "Wskazówka:<br/>\n",
    "Pliki do zmiany to server.py i model.py"
   ]
  },
  {
   "cell_type": "markdown",
   "metadata": {},
   "source": [
    "# WolfSheep Predation model"
   ]
  },
  {
   "cell_type": "markdown",
   "metadata": {},
   "source": [
    "## Ćwiczenie 2.1\n",
    "W pliku wolf_sheep/wolf_sheep/agents.py:\n",
    "Uzupełnij funkcję step o sytuację kiedy agent Sheep się rozmnaża. Owca poświęca w ten sposób połowę swojej energii dla nowej owcy.\n",
    "Wskazówki:\n",
    "- owca rodzic traci połowę swojej energii na rzecz owcy dziecka  \n",
    "- funkcja self.random.random() - losuje liczbę z przedziału (0, 1)\n",
    "- self.model.sheep_reproduce - prawdopodobieństwo, że owca się rozmnaża\n",
    "- nową owcę tworzy się konstruktorem Sheep(id, position, model, moore, energy)\n",
    "    - id - id nowego agenta Sheep,\n",
    "    - position - tupla (x, y) z pozycją dla nowego agenta\n",
    "    - model - przekazujemy ten sam co rodzica\n",
    "    - moore - jak wyżej,\n",
    "    - energy - energia początkowa agenta\n",
    "- funkcja self.model.next_id() - zwraca nowe id dla agenta\n",
    "- funkcja self.model.grid.place_agent(agent, position) - dodaje agenta do grida na daną pozycję \n",
    "- funkcja self.model.schedule.add(agent) - dodaje agenta do schedula"
   ]
  },
  {
   "cell_type": "markdown",
   "metadata": {},
   "source": [
    "## Ćwiczenie 2.2\n",
    "W pliku wolf_sheep/wolf_sheep/agents.py\n",
    "Uzupełnij funkcję step agenta Wolf zjedzenie owcy.\n",
    "Wskazówki:\n",
    "- funkcja self.model.grid._remove_agent(position, agent) usuwa agenta z grida\n",
    "- funkcja self.model.schedule.remove(agent) usuwa agenta z listy agentów\n",
    "- self.model.wolf_gain_from_food - ilosc energii zdobytej ze zjedzenia owcy"
   ]
  },
  {
   "cell_type": "markdown",
   "metadata": {},
   "source": [
    "## Ćwiczenie 2.3\n",
    "W pliku wolf_sheep/wolf_sheep/model.py\n",
    "Uzupełnij model WolfSheep o tworzenie owiec.\n",
    "Wskazówki:\n",
    "- tworzymy self.initial_sheep owiec\n",
    "- agenta owcy tworzy się konstruktorem Sheep(id, position, model, moore, energy)\n",
    "    - id - id agenta\n",
    "    - position - tupla (x, y) z współrzędnymi agenta\n",
    "    - model - model\n",
    "    - moore - flaga czy sąsiedztwo ma być Moore'a, czy Von Neumanna, u nas to True\n",
    "    - energy - energia startowa owcy\n",
    "\n",
    "- funkcja self.random.randrange(m) zwraca wartosc z przedzialu <0, m)\n",
    "- owce mają mieć losowe współrzędne startowe\n",
    "- poziom energii ma mieć wartość losową z przedziału <0, 2*self.sheep_gain_from_food)\n",
    "- self.grid.place_agent(agent, position) - dodaje agenta do gridu\n",
    "- self.schedule.add(agent) - dodaje agenta do schedula\n",
    "\n",
    "Następnie dodaj wilki w analogiczny sposób.\n",
    "Wskazówki:\n",
    "- tworzymy self.initial_wolves owiec\n",
    "- poziom energii ma mieć wartość losową z przedziału <0, 2*self.wolf_gain_from_food)"
   ]
  },
  {
   "cell_type": "code",
   "execution_count": null,
   "metadata": {},
   "outputs": [],
   "source": [
    "Teraz możemy zobaczyć nasz system wpisując komendę:\n",
    "python run.py"
   ]
  },
  {
   "cell_type": "markdown",
   "metadata": {},
   "source": [
    "# Zadanie domowe\n",
    "Tworzymy sieć jak na obrazku:\n",
    "![title](network.png)\n",
    "Załóżmy, że sieć reprezentuje routery i chcemy przesłać pakiet od pierwszego od lewej do ostatniego.<br/>\n",
    "Routery oprócz pierwszego i ostatniego mogą losowo się psuć przez co są nieaktywne zanim zostaną naprawione.<br/>\n",
    "Router wysyła wiadomość dalej do pierwszego od góry i czeka na potwierdzenie. Jeżeli nie dostanie potwierdzenia wysyła do następnego pod nim. <br/>\n",
    "Przy jakim współczynniku psucia się routerów (prawdopodobieństwo, że router się zepsuje w danym kroku) sieć będzie dostępna przez 90% czasu jeżeli naprawa routera wymaga 20 kroków czasowych?"
   ]
  },
  {
   "cell_type": "code",
   "execution_count": null,
   "metadata": {
    "collapsed": true
   },
   "outputs": [],
   "source": []
  }
 ],
 "metadata": {
  "kernelspec": {
   "display_name": "Python 3",
   "language": "python",
   "name": "python3"
  },
  "language_info": {
   "codemirror_mode": {
    "name": "ipython",
    "version": 3
   },
   "file_extension": ".py",
   "mimetype": "text/x-python",
   "name": "python",
   "nbconvert_exporter": "python",
   "pygments_lexer": "ipython3",
   "version": "3.7.1"
  }
 },
 "nbformat": 4,
 "nbformat_minor": 2
}
